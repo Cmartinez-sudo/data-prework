{
 "cells": [
  {
   "cell_type": "code",
   "execution_count": 14,
   "metadata": {},
   "outputs": [
    {
     "name": "stdout",
     "output_type": "stream",
     "text": [
      "0\n",
      "90\n",
      "[70, 76, 80, 81, 80, 83, 90, 79]\n",
      "60.25\n",
      "[33, 66, 65, 60.25, 59, 60, 62, 64, 70, 76, 80, 81, 80, 83, 90, 79, 61, 53, 50, 49, 53, 48, 45, 39]\n",
      "91.4\n",
      "150.8\n",
      "149.0\n",
      "140.45\n",
      "138.2\n",
      "140.0\n",
      "143.60000000000002\n",
      "147.2\n",
      "158.0\n",
      "168.8\n",
      "176.0\n",
      "177.8\n",
      "176.0\n",
      "181.4\n",
      "194.0\n",
      "174.20000000000002\n",
      "141.8\n",
      "127.4\n",
      "122.0\n",
      "120.2\n",
      "127.4\n",
      "118.4\n",
      "113.0\n",
      "102.2\n",
      "Obviously the cooling system has to be changed\n"
     ]
    }
   ],
   "source": [
    "temperatures_C = [33, 66, 65, 0, 59, 60, 62, 64, 70, 76, 80, 81, 80, 83, 90, 79, 61, 53, 50, 49, 53, 48, 45, 39]\n",
    "\n",
    "#Minimum temperature of the day#\n",
    "\n",
    "lowest_C = min(temperatures_C)\n",
    "print(lowest_C)\n",
    "\n",
    "#Maximum temperature of the day#\n",
    "highest_C = max(temperatures_C)\n",
    "print(highest_C)\n",
    "\n",
    "#Create a list with the temperatures that are greater than or equal to 70ºC. Store it in a variable#\n",
    "over_seventy = []\n",
    "for temp in temperatures_C:\n",
    "    if temp >= 70:\n",
    "        over_seventy.append(temp)\n",
    "        \n",
    "print(over_seventy)\n",
    "    \n",
    "#Find the average temperature of the day and store it in a variable#\n",
    "\n",
    "average_temp = sum(temperatures_C) / len(temperatures_C)\n",
    "print(average_temp)\n",
    "\n",
    "#Estimation of the sensor fialure at 3 am#\n",
    "temperatures_C[3] = average_temp\n",
    "print(temperatures_C)\n",
    "\n",
    "#Conversion from C to F#\n",
    "for temp in temperatures_C:\n",
    "    temperatures_F = 1.8 * temp + 32\n",
    "    print(temperatures_F)\n",
    "    \n",
    "#Make a decision#\n",
    "print(\"Obviously the cooling system has to be changed\")"
   ]
  },
  {
   "cell_type": "code",
   "execution_count": null,
   "metadata": {},
   "outputs": [],
   "source": []
  }
 ],
 "metadata": {
  "kernelspec": {
   "display_name": "Python 3",
   "language": "python",
   "name": "python3"
  },
  "language_info": {
   "codemirror_mode": {
    "name": "ipython",
    "version": 3
   },
   "file_extension": ".py",
   "mimetype": "text/x-python",
   "name": "python",
   "nbconvert_exporter": "python",
   "pygments_lexer": "ipython3",
   "version": "3.8.3"
  }
 },
 "nbformat": 4,
 "nbformat_minor": 4
}
