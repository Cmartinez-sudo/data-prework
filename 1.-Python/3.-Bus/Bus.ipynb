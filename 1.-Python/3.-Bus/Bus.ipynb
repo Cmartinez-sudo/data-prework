{
 "cells": [
  {
   "cell_type": "code",
   "execution_count": 54,
   "metadata": {},
   "outputs": [
    {
     "name": "stdout",
     "output_type": "stream",
     "text": [
      "9\n",
      "[10, 4, 3, 3, 5, 1, 5, 4, 2]\n",
      "[0, 1, 5, 4, 1, 5, 8, 6, 3]\n",
      "10\n",
      "13\n",
      "11\n",
      "10\n",
      "14\n",
      "10\n",
      "7\n",
      "5\n",
      "4\n",
      "[10, 13, 11, 10, 14, 10, 7, 5, 4]\n",
      "14\n",
      "9.333333333333334\n",
      "3.391164991562634\n"
     ]
    }
   ],
   "source": [
    "# Variables\n",
    "stops = [(10, 0), (4, 1), (3, 5), (3, 4), (5, 1), (1, 5), (5, 8), (4, 6), (2, 3)]\n",
    "\n",
    "#Number of stops#\n",
    "for stop in stops:\n",
    "    stops_number = len(stops)\n",
    "print(stops_number)\n",
    "\n",
    "#Assign to a variable a list#\n",
    "passengers_on = [stop[0] for stop in stops]\n",
    "passengers_off = [stop[1] for stop in stops]\n",
    "\n",
    "\n",
    "print(passengers_on)\n",
    "print(passengers_off)\n",
    "\n",
    "passengers = 0\n",
    "passengers_list = []\n",
    "for x,y in stops:\n",
    "    passengers = passengers + x-y\n",
    "    passengers_list.append(passengers)\n",
    "    print(passengers)\n",
    "\n",
    "print(passengers_list)\n",
    "\n",
    "#Maximum occupation of the bus#\n",
    "print(max(passengers_list))\n",
    "\n",
    "#Average Occupation#\n",
    "average_occupation = sum(passengers_list) / len(passengers_list)\n",
    "print(average_occupation)\n",
    "\n",
    "#Standard Deviation#\n",
    "import statistics\n",
    "print(statistics.stdev(passengers_list))"
   ]
  },
  {
   "cell_type": "code",
   "execution_count": null,
   "metadata": {},
   "outputs": [],
   "source": []
  }
 ],
 "metadata": {
  "kernelspec": {
   "display_name": "Python 3",
   "language": "python",
   "name": "python3"
  },
  "language_info": {
   "codemirror_mode": {
    "name": "ipython",
    "version": 3
   },
   "file_extension": ".py",
   "mimetype": "text/x-python",
   "name": "python",
   "nbconvert_exporter": "python",
   "pygments_lexer": "ipython3",
   "version": "3.8.3"
  }
 },
 "nbformat": 4,
 "nbformat_minor": 4
}
