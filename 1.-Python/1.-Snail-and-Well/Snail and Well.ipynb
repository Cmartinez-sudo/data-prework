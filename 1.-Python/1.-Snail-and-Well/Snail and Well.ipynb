{
 "cells": [
  {
   "cell_type": "code",
   "execution_count": 18,
   "metadata": {},
   "outputs": [
    {
     "name": "stdout",
     "output_type": "stream",
     "text": [
      "Days = 11\n"
     ]
    }
   ],
   "source": [
    "#Assign Variables#\n",
    "well_height = 125\n",
    "daily_distance = 30\n",
    "nightly_distance = 20\n",
    "snail_position = 0\n",
    "\n",
    "#Create variable days#\n",
    "days = 0\n",
    "\n",
    "#Solution#\n",
    "while(snail_position < well_height):\n",
    "    days = days + 1\n",
    "    snail_position = snail_position + daily_distance\n",
    "    if snail_position >= well_height:\n",
    "        break\n",
    "    else:\n",
    "        snail_position = snail_position - nightly_distance\n",
    "        \n",
    "        \n",
    "#Print the solution#        \n",
    "print('Days =', days)"
   ]
  },
  {
   "cell_type": "code",
   "execution_count": 24,
   "metadata": {
    "scrolled": true
   },
   "outputs": [
    {
     "name": "stdout",
     "output_type": "stream",
     "text": [
      "Days = 5\n",
      "Maximum displacement in a day is = 57\n",
      "Minimum displacement in a day is = 1\n",
      "Average progress in a day is = 25.0\n"
     ]
    }
   ],
   "source": [
    "#Assign Variables#\n",
    "well_height = 125\n",
    "advance_cm = [30, 21, 33, 77, 44, 45, 23, 45, 12, 34, 55]\n",
    "nightly_distance = 20\n",
    "snail_position = 0\n",
    "\n",
    "#Create variable days#\n",
    "days = 0\n",
    "\n",
    "#Solution#\n",
    "while(snail_position < well_height):\n",
    "    snail_position = snail_position + advance_cm[days]\n",
    "    days = days + 1\n",
    "    \n",
    "    if snail_position >= well_height:\n",
    "        break\n",
    "    else:\n",
    "        snail_position = snail_position - nightly_distance\n",
    "        \n",
    "#Print the solution#       \n",
    "print('Days =', days)\n",
    "\n",
    "#Maximum and minimum displacement in a day#\n",
    "print('Maximum displacement in a day is =', max(advance_cm[:days])- nightly_distance)\n",
    "print('Minimum displacement in a day is =', min(advance_cm[:days])- nightly_distance)\n"
   ]
  },
  {
   "cell_type": "code",
   "execution_count": null,
   "metadata": {},
   "outputs": [],
   "source": []
  }
 ],
 "metadata": {
  "kernelspec": {
   "display_name": "Python 3",
   "language": "python",
   "name": "python3"
  },
  "language_info": {
   "codemirror_mode": {
    "name": "ipython",
    "version": 3
   },
   "file_extension": ".py",
   "mimetype": "text/x-python",
   "name": "python",
   "nbconvert_exporter": "python",
   "pygments_lexer": "ipython3",
   "version": "3.8.3"
  }
 },
 "nbformat": 4,
 "nbformat_minor": 4
}
