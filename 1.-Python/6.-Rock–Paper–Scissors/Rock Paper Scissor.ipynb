{
 "cells": [
  {
   "cell_type": "code",
   "execution_count": 43,
   "metadata": {},
   "outputs": [
    {
     "name": "stdout",
     "output_type": "stream",
     "text": [
      "scissors\n",
      "paper\n",
      "error\n"
     ]
    }
   ],
   "source": [
    "#importing#\n",
    "import random\n",
    "\n",
    "#Create a list that includes the 3 possible gesture options of the game#\n",
    "gestures = [\"rock\", \"paper\", \"scissors\"]\n",
    "\n",
    "#Create a variable called n_rounds#\n",
    "n_rounds = 5\n",
    "\n",
    "#Create a variable called rounds_to_win#\n",
    "rounds_to_win = 3\n",
    "\n",
    "# Create two variables to store the number of rounds that the computer and the player have won#\n",
    "cpu_score = 0\n",
    "player_score = 0\n",
    "\n",
    "#Define a function that randomly returns one of the 3 gesture options#  \n",
    "def cpu_choice(random):\n",
    "    print(random.choice(gestures))\n",
    "\n",
    "#Define a function that asks the player which is the gesture he or she wants to show#\n",
    "def player_choice(gestures):\n",
    "    print(gestures)\n",
    "\n",
    "#Define a function that checks who won a round#\n",
    "def who_won(cpu_choice, player_choice):\n",
    "    if (cpu_choice == \"rock\" and player_choice == \"rock\"):\n",
    "        print(\"0\")\n",
    "    elif (cpu_choice == \"rock\" and player_choice == \"paper\"):\n",
    "        print(\"2\")\n",
    "    elif (cpu_choice == \"rock\" and player_choice == \"scissors\"):\n",
    "        print(\"1\")\n",
    "    elif (cpu_choice == \"paper\" and player_choice == \"paper\"):\n",
    "        print(\"0\")\n",
    "    elif (cpu_choice == \"paper\" and player_choice == \"rock\"):\n",
    "        print(\"1\")\n",
    "    elif (cpu_choice == \"paper\" and player_choice == \"scissors\"):\n",
    "        print(\"2\")\n",
    "    elif (cpu_choice == \"scissors\" and player_choice == \"scissors\"):\n",
    "        print(\"0\")\n",
    "    elif (cpu_choice == \"scissors\" and player_choice == \"paper\"):\n",
    "        print(\"1\")\n",
    "    elif (cpu_choice == \"scissors\" and player_choice == \"rock\"):\n",
    "        print(\"2\")\n",
    "    else:\n",
    "        print(\"error\")\n",
    "        \n",
    "who_won(cpu_choice(random), player_choice(\"paper\"))"
   ]
  },
  {
   "cell_type": "code",
   "execution_count": null,
   "metadata": {},
   "outputs": [],
   "source": []
  }
 ],
 "metadata": {},
 "nbformat": 4,
 "nbformat_minor": 4
}
